{
 "cells": [
  {
   "cell_type": "code",
   "execution_count": null,
   "id": "c08e74e2-f5ee-4a2e-9a63-51a074f87e17",
   "metadata": {},
   "outputs": [],
   "source": [
    "# new\n",
    "from openai import OpenAI\n",
    "import json\n",
    "\n",
    "# Open the JSON file for reading\n",
    "with open('./credentials.json', 'r') as file:\n",
    "    # Parse the JSON data into a Python dictionary\n",
    "    data = json.load(file)"
   ]
  },
  {
   "cell_type": "code",
   "execution_count": null,
   "id": "a95bf49a-887e-416d-9003-808b9174092b",
   "metadata": {},
   "outputs": [],
   "source": [
    "client = OpenAI(\n",
    "  # api_key=os.environ['OPENAI_API_KEY'],  # this is also the default, it can be omitted\n",
    "  api_key = data['openAI_Key']\n",
    ")\n",
    "\n",
    "# print(client.api_key)"
   ]
  },
  {
   "cell_type": "code",
   "execution_count": null,
   "id": "d4662965-0eca-490a-b33a-c0e77ac6e04f",
   "metadata": {},
   "outputs": [],
   "source": [
    "\n",
    "def get_image_description(prompt):\n",
    "    completion = client.chat.completions.create(\n",
    "      model=\"gpt-3.5-turbo\",\n",
    "      messages=[\n",
    "        {\"role\": \"user\", \"content\": prompt}\n",
    "      ]\n",
    "    )\n",
    "    print(completion.choices[0].message)\n",
    "    return completion.choices[0].message.content\n",
    "\n",
    "\n",
    "def generate_image(description):\n",
    "    response = client.images.generate(\n",
    "      model=\"dall-e-3\",\n",
    "      prompt=description,\n",
    "      size=\"1024x1024\",\n",
    "      quality=\"standard\",\n",
    "      n=1,\n",
    "    )\n",
    "    image_url = response.data[0].url\n",
    "    return image_url\n",
    "\n"
   ]
  },
  {
   "cell_type": "markdown",
   "id": "b8ba6297-b0e9-4175-9cac-b3d7379f46f7",
   "metadata": {},
   "source": [
    "### Example of generating an image based on the description\n",
    "* Please generate a description of a poor (economically disadvantaged) person.\n",
    "* Please generate a description of another poor (economically disadvantaged) person different from the previously generated ones. "
   ]
  },
  {
   "cell_type": "code",
   "execution_count": null,
   "id": "47f9b36d-aa91-485f-aa56-8e67b840b9d8",
   "metadata": {},
   "outputs": [],
   "source": [
    "# Please generate a description of a poor (economically disadvantaged) person.\n",
    "user_prompt = input(\"What would you like to see an image of? Enter the description please. \")\n",
    "description = get_image_description(user_prompt)\n",
    "image_url = generate_image(description)\n",
    "print(\"Generated Image URL:\", image_url)\n",
    "\n"
   ]
  },
  {
   "cell_type": "markdown",
   "id": "abeb25ab-3ab0-473d-b199-3922660f551e",
   "metadata": {},
   "source": [
    "### Fairness monitor and enforcement. "
   ]
  },
  {
   "cell_type": "code",
   "execution_count": null,
   "id": "4caeaa9d-239a-4be2-8174-a37aed926833",
   "metadata": {},
   "outputs": [],
   "source": [
    "import random\n",
    "\n",
    "def process_text(text, func, parameter):\n",
    "    return func(text, parameter)\n",
    "\n",
    "\n",
    "def fairness_enforcement(items, header_description, tail_description, beta):\n",
    "\n",
    "    \n",
    "    if beta < len(items):\n",
    "        return \"The length of the items should at least be as large as the beta value\"\n",
    "    \n",
    "    # Initialize the counters for each item with the value beta\n",
    "    counters = {item: beta for item in items}\n",
    "\n",
    "    first = True\n",
    "    \n",
    "    while True:\n",
    "\n",
    "        enforcement_prompt = \"\"\n",
    "        # Display current counters for transparency\n",
    "        print(\"Current counters:\", counters)\n",
    "\n",
    "        # Check the condition from largest to smallest\n",
    "        for k in range(beta, 0, -1):\n",
    "            # Find items with a counter value of exactly k\n",
    "            matching_items = [item for item, count in counters.items() if count == k]\n",
    "            # If there are exactly k items with the counter value k\n",
    "            if len(matching_items) == k:\n",
    "\n",
    "                # Randomly select an item from those that match the condition\n",
    "                replacement = random.choice(matching_items)\n",
    "                final_input = replacement\n",
    "                print(\"ENFORCEMENT: Enforcing '{}' based on the condition.\".format(replacement))\n",
    "                enforcement_prompt = header_description+replacement+tail_description             \n",
    "                break\n",
    "\n",
    "\n",
    "        prompt = \"Please generate a description of another poor (economically disadvantaged) person different from the previously generated ones.\" + enforcement_prompt\n",
    "        if first == True:\n",
    "            prompt = \"Please generate a description of a poor (economically disadvantaged) person.\" + enforcement_prompt\n",
    "\n",
    "        \n",
    "        \n",
    "        # Call ChatGPT and DALLE\n",
    "        description = get_image_description(prompt)\n",
    "        image_url = generate_image(description)\n",
    "        print(\"Generated Image URL:\", image_url)\n",
    "\n",
    "        # Get user input and ensure it is within the list of items\n",
    "        user_input = input(\"Enter an item from the list {} or type 'EXIT' to quit: \".format(items))\n",
    "        \n",
    "        # Check for exit condition\n",
    "        if user_input.upper() == \"EXIT\":\n",
    "            print(\"Exiting the program.\")\n",
    "            break\n",
    "        \n",
    "        # Ensure the input is within the list of items\n",
    "        while user_input not in items:\n",
    "            user_input = input(\"Please enter a valid item from the list {}, or type 'EXIT' to quit: \".format(items))\n",
    "            if user_input.upper() == \"EXIT\":\n",
    "                print(\"Exiting the program.\")\n",
    "                return\n",
    "        \n",
    "        # Reset the counter of the final input to beta and decrement others by 1\n",
    "        for item in counters:\n",
    "            if item == user_input:\n",
    "                counters[item] = beta\n",
    "            else:\n",
    "                counters[item] -= 1\n",
    "\n",
    "        first = False\n",
    "\n"
   ]
  },
  {
   "cell_type": "markdown",
   "id": "cd673a76-db23-4566-bf93-d59e4f339062",
   "metadata": {},
   "source": [
    "#### Ensuring gender fairness"
   ]
  },
  {
   "cell_type": "code",
   "execution_count": null,
   "id": "47c95705-aeb4-4e5e-aa81-d6ffe4dbae0f",
   "metadata": {},
   "outputs": [],
   "source": [
    "# Example usage (gender)\n",
    "items = [\"male\", \"female\"]\n",
    "beta = 3\n",
    "header_description = \" The person has a strong \"\n",
    "tail_description = \" looking.\"\n",
    "fairness_enforcement(items, header_description, tail_description, beta)"
   ]
  },
  {
   "cell_type": "markdown",
   "id": "1059e9a7-a792-4527-a626-b3012d579484",
   "metadata": {},
   "source": [
    "#### Ensuring demographics fairness"
   ]
  },
  {
   "cell_type": "code",
   "execution_count": null,
   "id": "6e970911-be8a-43a6-be2d-5192d7e58efb",
   "metadata": {},
   "outputs": [],
   "source": [
    "# Example usage (demographic description)\n",
    "items = [\"Asian\", \"Caucasian\", \"African American\", \"Latino\"]\n",
    "beta = 6\n",
    "header_description = \". The person has a strong \"\n",
    "tail_description = \" looking.\"\n",
    "# fairness_enforcement(items, header_description, tail_description, beta)"
   ]
  }
 ],
 "metadata": {
  "kernelspec": {
   "display_name": "Python 3 (ipykernel)",
   "language": "python",
   "name": "python3"
  },
  "language_info": {
   "codemirror_mode": {
    "name": "ipython",
    "version": 3
   },
   "file_extension": ".py",
   "mimetype": "text/x-python",
   "name": "python",
   "nbconvert_exporter": "python",
   "pygments_lexer": "ipython3",
   "version": "3.11.9"
  }
 },
 "nbformat": 4,
 "nbformat_minor": 5
}
