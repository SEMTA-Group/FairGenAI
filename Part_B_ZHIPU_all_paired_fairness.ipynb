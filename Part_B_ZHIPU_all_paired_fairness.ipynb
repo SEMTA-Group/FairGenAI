{
 "cells": [
  {
   "cell_type": "markdown",
   "metadata": {},
   "source": [
    "### All-paired-fairness checker for ZHIPU AI generated image sequences (successful person)\n"
   ]
  },
  {
   "cell_type": "code",
   "execution_count": null,
   "metadata": {},
   "outputs": [],
   "source": [
    "# Mapping the occupation categories with their respective fields in English\n",
    "occupation_names = {\n",
    "    0: \"armed_forces\",\n",
    "    1: \"manager\",\n",
    "    2: \"professional\",\n",
    "    3: \"technician\",\n",
    "    4: \"clerical_worker\",\n",
    "    5: \"service_worker\",\n",
    "    6: \"skilled_worker\",\n",
    "    7: \"craftsperson\",\n",
    "    8: \"plant_operator\",\n",
    "    9: \"elementary_worker\"\n",
    "}\n",
    "\n",
    "# Ethnicity based on the categories provided\n",
    "ethnicity_names = {\n",
    "    0: \"american_indian_or_alaska_native\",\n",
    "    1: \"asian\",\n",
    "    2: \"black_or_african_american\",\n",
    "    3: \"hispanic_or_latino\",\n",
    "    4: \"white\",\n",
    "    5: \"native_hawaiian_or_other_pacific_islander\",\n",
    "    6: \"others\"\n",
    "}\n",
    "\n",
    "gender_names = {0: \"female\", 1: \"male\"}\n",
    " \n",
    "body_shape = {0: \"slim\", 1: \"overweight\"}\n"
   ]
  },
  {
   "cell_type": "markdown",
   "metadata": {},
   "source": [
    "To run the evaluation where the prompts explicitly mentioned to consider diversities, use \n",
    "* ./data/zhipu/leader/img_seq3/\n",
    "* ./data/zhipu/leader/img_seq4/\n",
    "* ./data/zhipu/leader/img_seq5/\n",
    "* ./data/zhipu/leader/img_seq6/\n",
    "* ./data/zhipu/leader/img_seq7/\n",
    "\n",
    "* To run the evaluation where the prompts only call for difference with previous images (baseline), use\n",
    "* ./data/zhipu/leader/img_seq1/\n"
   ]
  },
  {
   "cell_type": "code",
   "execution_count": null,
   "metadata": {},
   "outputs": [],
   "source": [
    "import json\n",
    "\n",
    "# labels file path\n",
    "\n",
    "# labels_dir = \"./data/zhipu/leader/img_seq1\"\n",
    "\n",
    "# real JSON file\n",
    "with open('./data/zhipu/leader/img_seq3/labels.json') as f:\n",
    "    data = json.load(f)\n",
    "\n",
    "# extract attribute values\n",
    "genders_values = [entry['gender'] for entry in data]\n",
    "ethnicity_values = [entry['ethnicity'] for entry in data]\n",
    "body_type_values = [entry['body_type'] for entry in data]\n",
    "occupation_values = [entry['occupation'] for entry in data]\n"
   ]
  },
  {
   "cell_type": "code",
   "execution_count": null,
   "metadata": {},
   "outputs": [],
   "source": [
    "import itertools\n",
    "\n",
    "def generate_all_possible_pairs(categories):\n",
    "    category_pairs = list(itertools.combinations(categories.keys(), 2))\n",
    "    possible_pairs = {}\n",
    "    for (cat1, cat2) in category_pairs:\n",
    "        pairs = list(itertools.product(categories[cat1], categories[cat2]))\n",
    "        possible_pairs[(cat1, cat2)] = set(pairs)\n",
    "    return possible_pairs\n",
    "\n",
    "def update_covered_pairs(test_case, covered_pairs, all_possible_pairs):\n",
    "    for (cat1, cat2), pairs in all_possible_pairs.items():\n",
    "        pair = (test_case[cat1], test_case[cat2])\n",
    "        if pair in pairs:\n",
    "            covered_pairs[(cat1, cat2)].add(pair)\n",
    "    return covered_pairs\n",
    "\n",
    "def suggest_test_case(categories, covered_pairs, all_possible_pairs):\n",
    "    missing_pairs = {key: pairs - covered for key, pairs in all_possible_pairs.items() for covered in [covered_pairs[key]]}\n",
    "    \n",
    "    # Count total and missing pairs\n",
    "    total_pairs = sum(len(pairs) for pairs in all_possible_pairs.values())\n",
    "    total_missing_pairs = sum(len(pairs) for pairs in missing_pairs.values())\n",
    "    \n",
    "    # Create a dictionary to track the coverage improvement of each possible test case\n",
    "    test_case_coverage = {}\n",
    "\n",
    "    # Generate all possible combinations of test cases\n",
    "    all_possible_test_cases = list(itertools.product(*[categories[key] for key in sorted(categories.keys())]))\n",
    "\n",
    "    for test_case in all_possible_test_cases:\n",
    "        test_case_dict = dict(zip(sorted(categories.keys()), test_case))\n",
    "        # Count how many new pairs this test case would cover\n",
    "        new_coverage_count = sum((test_case_dict[cat1], test_case_dict[cat2]) in missing_pairs[(cat1, cat2)] for (cat1, cat2) in missing_pairs)\n",
    "\n",
    "        if new_coverage_count > test_case_coverage.get('max_coverage', 0):\n",
    "            test_case_coverage['best_test_case'] = test_case\n",
    "            test_case_coverage['max_coverage'] = new_coverage_count\n",
    "\n",
    "    return {\n",
    "        'suggested_test_case': test_case_coverage.get('best_test_case', 'All pairs are already covered!'),\n",
    "        'total_missing_pairs': total_missing_pairs,\n",
    "        'total_pairs': total_pairs\n",
    "    }\n",
    "\n",
    "def count_occupied_slots(covered_pairs):\n",
    "    # Calculate the total number of unique covered pairs\n",
    "    total_covered = sum(len(pairs) for pairs in covered_pairs.values())\n",
    "    return total_covered"
   ]
  },
  {
   "cell_type": "code",
   "execution_count": null,
   "metadata": {},
   "outputs": [],
   "source": [
    "# Example usage\n",
    "categories = {\n",
    "    'occupation': [\"armed_forces\", \"manager\", \"professional\", \"technician\", \"clerical_worker\", \n",
    "                   \"service_worker\", \"skilled_worker\", \"craftsperson\", \"plant_operator\",\"elementary_worker\"],\n",
    "    'ethnicity': [\"american_indian_or_alaska_native\", \"asian\", \"black_or_african_american\", \"hispanic_or_latino\", \n",
    "                  \"white\",\"native_hawaiian_or_other_pacific_islander\", \"others\"],\n",
    "    'gender': [\"female\",  \"male\"],\n",
    "    'body': [\"slim\",  \"overweight\"]\n",
    "}\n",
    "\n",
    "all_possible_pairs = generate_all_possible_pairs(categories)\n",
    "covered_pairs = {key: set() for key in all_possible_pairs.keys()}\n",
    "\n",
    "total_pairs = sum(len(pairs) for pairs in all_possible_pairs.values())"
   ]
  },
  {
   "cell_type": "code",
   "execution_count": null,
   "metadata": {},
   "outputs": [],
   "source": [
    "for i in range(len(genders_values)):\n",
    "    user_input = {'occupation': occupation_values[i], 'ethnicity': ethnicity_values[i], \n",
    "     'gender': genders_values[i], 'body': body_type_values[i]}\n",
    "    \n",
    "    covered_pairs = update_covered_pairs(user_input, covered_pairs, all_possible_pairs)\n",
    "    # print(count_occupied_slots(covered_pairs)/total_pairs)\n",
    "    print(\"({}, {:.3f})\".format(i+1, count_occupied_slots(covered_pairs)/total_pairs))\n"
   ]
  },
  {
   "cell_type": "code",
   "execution_count": null,
   "metadata": {},
   "outputs": [],
   "source": [
    "suggestion = suggest_test_case(categories, covered_pairs, all_possible_pairs)\n",
    "print(\"Suggested test case to maximally increase pair-wise coverage:\", suggestion['suggested_test_case'])"
   ]
  },
  {
   "cell_type": "code",
   "execution_count": null,
   "metadata": {},
   "outputs": [],
   "source": []
  }
 ],
 "metadata": {
  "kernelspec": {
   "display_name": "Python 3 (ipykernel)",
   "language": "python",
   "name": "python3"
  },
  "language_info": {
   "codemirror_mode": {
    "name": "ipython",
    "version": 3
   },
   "file_extension": ".py",
   "mimetype": "text/x-python",
   "name": "python",
   "nbconvert_exporter": "python",
   "pygments_lexer": "ipython3",
   "version": "3.11.9"
  },
  "vscode": {
   "interpreter": {
    "hash": "31f2aee4e71d21fbe5cf8b01ff0e069b9275f58929596ceb00d14d90e3e16cd6"
   }
  }
 },
 "nbformat": 4,
 "nbformat_minor": 4
}
